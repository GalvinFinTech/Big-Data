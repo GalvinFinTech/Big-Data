{
  "cells": [
    {
      "cell_type": "markdown",
      "metadata": {
        "id": "YMWOWW_rV0PV"
      },
      "source": [
        "# Cài đặt PySpark"
      ]
    },
    {
      "cell_type": "code",
      "execution_count": null,
      "metadata": {
        "colab": {
          "base_uri": "https://localhost:8080/"
        },
        "id": "pdsTMYvBVxIv",
        "outputId": "0ada5454-c2c8-4423-9f40-0a19309edf4f"
      },
      "outputs": [
        {
          "output_type": "stream",
          "name": "stdout",
          "text": [
            "Requirement already satisfied: pyspark in /usr/local/lib/python3.10/dist-packages (3.5.3)\n",
            "Requirement already satisfied: py4j==0.10.9.7 in /usr/local/lib/python3.10/dist-packages (from pyspark) (0.10.9.7)\n"
          ]
        }
      ],
      "source": [
        "!pip install pyspark"
      ]
    },
    {
      "cell_type": "markdown",
      "metadata": {
        "id": "Db5xO_oiV5ZO"
      },
      "source": [
        "# Chuyển đổi file excel sang csv"
      ]
    },
    {
      "cell_type": "code",
      "execution_count": null,
      "metadata": {
        "colab": {
          "base_uri": "https://localhost:8080/"
        },
        "id": "Lr7JrwA9uthq",
        "outputId": "f97729de-b808-48d3-cc20-049c245566ed"
      },
      "outputs": [
        {
          "output_type": "stream",
          "name": "stdout",
          "text": [
            "Requirement already satisfied: gdown in /usr/local/lib/python3.10/dist-packages (5.2.0)\n",
            "Requirement already satisfied: pyspark in /usr/local/lib/python3.10/dist-packages (3.5.3)\n",
            "Requirement already satisfied: beautifulsoup4 in /usr/local/lib/python3.10/dist-packages (from gdown) (4.12.3)\n",
            "Requirement already satisfied: filelock in /usr/local/lib/python3.10/dist-packages (from gdown) (3.16.1)\n",
            "Requirement already satisfied: requests[socks] in /usr/local/lib/python3.10/dist-packages (from gdown) (2.32.3)\n",
            "Requirement already satisfied: tqdm in /usr/local/lib/python3.10/dist-packages (from gdown) (4.66.6)\n",
            "Requirement already satisfied: py4j==0.10.9.7 in /usr/local/lib/python3.10/dist-packages (from pyspark) (0.10.9.7)\n",
            "Requirement already satisfied: soupsieve>1.2 in /usr/local/lib/python3.10/dist-packages (from beautifulsoup4->gdown) (2.6)\n",
            "Requirement already satisfied: charset-normalizer<4,>=2 in /usr/local/lib/python3.10/dist-packages (from requests[socks]->gdown) (3.4.0)\n",
            "Requirement already satisfied: idna<4,>=2.5 in /usr/local/lib/python3.10/dist-packages (from requests[socks]->gdown) (3.10)\n",
            "Requirement already satisfied: urllib3<3,>=1.21.1 in /usr/local/lib/python3.10/dist-packages (from requests[socks]->gdown) (2.2.3)\n",
            "Requirement already satisfied: certifi>=2017.4.17 in /usr/local/lib/python3.10/dist-packages (from requests[socks]->gdown) (2024.8.30)\n",
            "Requirement already satisfied: PySocks!=1.5.7,>=1.5.6 in /usr/local/lib/python3.10/dist-packages (from requests[socks]->gdown) (1.7.1)\n"
          ]
        }
      ],
      "source": [
        "!pip install gdown pyspark"
      ]
    },
    {
      "cell_type": "code",
      "execution_count": null,
      "metadata": {
        "id": "21bc1S1pssuq"
      },
      "outputs": [],
      "source": [
        "import gdown\n",
        "from pyspark.sql import SparkSession\n",
        "from pyspark.sql import Row\n",
        "import numpy as np\n",
        "import pandas as pd\n",
        "from pyspark.sql import DataFrame"
      ]
    },
    {
      "cell_type": "code",
      "execution_count": null,
      "metadata": {
        "id": "lYlAjCzsEBbQ"
      },
      "outputs": [],
      "source": [
        "spark = SparkSession.builder.appName(\"Data_Supervised_ML\").getOrCreate()"
      ]
    },
    {
      "cell_type": "code",
      "execution_count": null,
      "metadata": {
        "colab": {
          "base_uri": "https://localhost:8080/"
        },
        "id": "1mCXOcPJZUys",
        "outputId": "f331766e-0fa0-4ea5-ce6b-1b0083360043"
      },
      "outputs": [
        {
          "output_type": "stream",
          "name": "stdout",
          "text": [
            "Mounted at /content/drive\n"
          ]
        }
      ],
      "source": [
        "from google.colab import drive\n",
        "drive.mount('/content/drive')"
      ]
    },
    {
      "cell_type": "markdown",
      "metadata": {
        "id": "XcgvCd00gCJK"
      },
      "source": [
        "# Phân tích dữ liệu cơ bản"
      ]
    },
    {
      "cell_type": "code",
      "execution_count": null,
      "metadata": {
        "colab": {
          "base_uri": "https://localhost:8080/"
        },
        "id": "1MvnW_-lFips",
        "outputId": "5e142894-b121-40e7-f9df-7c3a1570eef2"
      },
      "outputs": [
        {
          "output_type": "stream",
          "name": "stdout",
          "text": [
            "+---------+---------+-----------------------------------+--------+----------------+---------+----------+--------------+-------------------+\n",
            "|InvoiceNo|StockCode|Description                        |Quantity|InvoiceDate     |UnitPrice|CustomerID|Country       |date               |\n",
            "+---------+---------+-----------------------------------+--------+----------------+---------+----------+--------------+-------------------+\n",
            "|536365   |85123A   |WHITE HANGING HEART T-LIGHT HOLDER |6       |01-12-2010 08:26|2.55     |17850     |United Kingdom|2010-12-01 08:26:00|\n",
            "|536365   |71053    |WHITE METAL LANTERN                |6       |01-12-2010 08:26|3.39     |17850     |United Kingdom|2010-12-01 08:26:00|\n",
            "|536365   |84406B   |CREAM CUPID HEARTS COAT HANGER     |8       |01-12-2010 08:26|2.75     |17850     |United Kingdom|2010-12-01 08:26:00|\n",
            "|536365   |84029G   |KNITTED UNION FLAG HOT WATER BOTTLE|6       |01-12-2010 08:26|3.39     |17850     |United Kingdom|2010-12-01 08:26:00|\n",
            "|536365   |84029E   |RED WOOLLY HOTTIE WHITE HEART.     |6       |01-12-2010 08:26|3.39     |17850     |United Kingdom|2010-12-01 08:26:00|\n",
            "+---------+---------+-----------------------------------+--------+----------------+---------+----------+--------------+-------------------+\n",
            "only showing top 5 rows\n",
            "\n"
          ]
        }
      ],
      "source": [
        "from pyspark.sql import SparkSession\n",
        "from datetime import datetime\n",
        "from pyspark.sql.types import StructType, StructField, StringType, IntegerType, DoubleType, TimestampType\n",
        "\n",
        "spark = SparkSession.builder.appName(\"Optimized RDD Data Preprocessing\").getOrCreate()\n",
        "\n",
        "# Load the CSV file\n",
        "df = spark.read.csv('/content/drive/MyDrive/CỦA TÔI/NHOM2_CK/OnlineRetail.csv', header=True, inferSchema=True)\n",
        "\n",
        "# Convert DataFrame to RDD\n",
        "rdd = df.rdd\n",
        "\n",
        "# Filter out rows where InvoiceNo starts with \"C\"\n",
        "filtered_rdd = rdd.filter(lambda row: not row.InvoiceNo.startswith(\"C\"))\n",
        "\n",
        "# Parse the date correctly\n",
        "def parse_date(row):\n",
        "    try:\n",
        "        date = datetime.strptime(row['InvoiceDate'], '%d-%m-%Y %H:%M')\n",
        "    except:\n",
        "        date = None\n",
        "    return (row['InvoiceNo'], row['StockCode'], row['Description'], row['Quantity'],\n",
        "            row['InvoiceDate'], row['UnitPrice'], row['CustomerID'], row['Country'], date)\n",
        "\n",
        "# Map the RDD to include the parsed date\n",
        "rdd_with_date = filtered_rdd.map(parse_date)\n",
        "\n",
        "# Define the schema\n",
        "schema = StructType([\n",
        "    StructField(\"InvoiceNo\", StringType(), True),\n",
        "    StructField(\"StockCode\", StringType(), True),\n",
        "    StructField(\"Description\", StringType(), True),\n",
        "    StructField(\"Quantity\", IntegerType(), True),\n",
        "    StructField(\"InvoiceDate\", StringType(), True),\n",
        "    StructField(\"UnitPrice\", DoubleType(), True),\n",
        "    StructField(\"CustomerID\", StringType(), True),\n",
        "    StructField(\"Country\", StringType(), True),\n",
        "    StructField(\"date\", TimestampType(), True)\n",
        "])\n",
        "\n",
        "# Create DataFrame from the RDD with the correct schema\n",
        "df_processed = spark.createDataFrame(rdd_with_date, schema)\n",
        "df_processed.show(5, truncate=False)\n"
      ]
    },
    {
      "cell_type": "code",
      "execution_count": null,
      "metadata": {
        "colab": {
          "base_uri": "https://localhost:8080/"
        },
        "id": "VO7p8BNlGYL6",
        "outputId": "f91ff2e1-b50c-46f1-d506-ff790065f04c"
      },
      "outputs": [
        {
          "output_type": "stream",
          "name": "stdout",
          "text": [
            "Tổng chi phí của từng hóa đơn:\n",
            "+---------+------------------+\n",
            "|InvoiceNo|         TotalCost|\n",
            "+---------+------------------+\n",
            "|   536596|             38.09|\n",
            "|   536938|1680.8799999999999|\n",
            "|   537252|26.349999999999998|\n",
            "|   537691|            310.57|\n",
            "|   538041|               0.0|\n",
            "|   538184|458.91999999999985|\n",
            "|   538517|320.28000000000003|\n",
            "|   538879| 338.9799999999999|\n",
            "|   539275|403.79999999999995|\n",
            "|   539630|             751.0|\n",
            "|   540499|             365.2|\n",
            "|   540540|            169.35|\n",
            "|   540976| 919.9799999999998|\n",
            "|   541432|            158.95|\n",
            "|   541518|2919.5099999999998|\n",
            "|   541783|            728.16|\n",
            "|   542026|            169.65|\n",
            "|   542375|             178.1|\n",
            "|   543641|197.94000000000003|\n",
            "|   544303|161.95000000000002|\n",
            "+---------+------------------+\n",
            "only showing top 20 rows\n",
            "\n",
            "Doanh thu theo khách hàng:\n",
            "+----------+------------------+\n",
            "|CustomerID|      TotalRevenue|\n",
            "+----------+------------------+\n",
            "|     16250|389.44000000000005|\n",
            "|     15574| 702.2500000000001|\n",
            "|     15555| 4805.169999999994|\n",
            "|     15271|2507.0699999999997|\n",
            "|     17714|             153.0|\n",
            "|     17686| 5739.460000000005|\n",
            "|     13865|501.56000000000006|\n",
            "|     14157| 432.8800000000001|\n",
            "|     13610|1131.8799999999999|\n",
            "|     13772|           1132.13|\n",
            "|     13282|1132.1399999999999|\n",
            "|     12394|           1272.48|\n",
            "|     16320|           1038.46|\n",
            "|     13192|            911.94|\n",
            "|     17757| 5605.289999999997|\n",
            "|     17551|            306.84|\n",
            "|     13187|236.01999999999995|\n",
            "|     16549| 4154.640000000004|\n",
            "|     12637| 6021.900000000003|\n",
            "|     15052|            215.78|\n",
            "+----------+------------------+\n",
            "only showing top 20 rows\n",
            "\n",
            "Doanh thu theo quốc gia:\n",
            "+------------------+------------------+\n",
            "|           Country|      TotalRevenue|\n",
            "+------------------+------------------+\n",
            "|            Sweden| 38378.32999999999|\n",
            "|         Singapore|21279.289999999997|\n",
            "|           Germany|228867.14000000025|\n",
            "|            France| 209715.1100000002|\n",
            "|            Greece|4760.5199999999995|\n",
            "|European Community|1300.2500000000002|\n",
            "|           Belgium| 41196.34000000001|\n",
            "|           Finland|22546.079999999994|\n",
            "|             Malta| 2725.590000000001|\n",
            "|       Unspecified| 4749.789999999996|\n",
            "|             Italy| 17483.23999999999|\n",
            "|              EIRE| 283453.9599999988|\n",
            "|         Lithuania|           1661.06|\n",
            "|            Norway|          36165.44|\n",
            "|             Spain| 61577.11000000017|\n",
            "|           Denmark|18955.339999999986|\n",
            "|         Hong Kong|15691.799999999996|\n",
            "|           Iceland|            4310.0|\n",
            "|            Israel|           8135.26|\n",
            "|   Channel Islands|20450.439999999995|\n",
            "+------------------+------------------+\n",
            "only showing top 20 rows\n",
            "\n",
            "Số lượng đơn hàng theo ngày trong tuần:\n",
            "+---------+------+\n",
            "|DayOfWeek| count|\n",
            "+---------+------+\n",
            "| Thursday|101502|\n",
            "|  Tuesday|100060|\n",
            "|   Monday| 93491|\n",
            "|Wednesday| 92836|\n",
            "|   Friday| 80822|\n",
            "|   Sunday| 63910|\n",
            "+---------+------+\n",
            "\n",
            "Giá trị trung bình của đơn hàng:\n",
            "+------------------+\n",
            "| AverageOrderValue|\n",
            "+------------------+\n",
            "|482.44019325598475|\n",
            "+------------------+\n",
            "\n",
            "Các sản phẩm bán chạy nhất:\n",
            "+---------+--------------------+-------------+\n",
            "|StockCode|         Description|TotalQuantity|\n",
            "+---------+--------------------+-------------+\n",
            "|    23843|PAPER CRAFT , LIT...|        80995|\n",
            "|    23166|MEDIUM CERAMIC TO...|        78033|\n",
            "|    84077|WORLD WAR 2 GLIDE...|        55047|\n",
            "|   85099B|JUMBO BAG RED RET...|        48478|\n",
            "|   85123A|WHITE HANGING HEA...|        37603|\n",
            "|    22197|      POPCORN HOLDER|        36761|\n",
            "|    84879|ASSORTED COLOUR B...|        36461|\n",
            "|    21212|PACK OF 72 RETROS...|        36419|\n",
            "|    23084|  RABBIT NIGHT LIGHT|        30788|\n",
            "|    22492|MINI PAINT SET VI...|        26633|\n",
            "+---------+--------------------+-------------+\n",
            "\n"
          ]
        }
      ],
      "source": [
        "from pyspark.sql import functions as F\n",
        "\n",
        "invoice_totals = df_processed.withColumn(\"TotalCost\", F.col(\"Quantity\") * F.col(\"UnitPrice\")) \\\n",
        "                             .groupBy(\"InvoiceNo\") \\\n",
        "                             .agg(F.sum(\"TotalCost\").alias(\"TotalCost\"))\n",
        "revenue_per_customer = df_processed.withColumn(\"Revenue\", F.col(\"Quantity\") * F.col(\"UnitPrice\")) \\\n",
        "                                   .groupBy(\"CustomerID\") \\\n",
        "                                   .agg(F.sum(\"Revenue\").alias(\"TotalRevenue\"))\n",
        "\n",
        "revenue_per_country = df_processed.withColumn(\"Revenue\", F.col(\"Quantity\") * F.col(\"UnitPrice\")) \\\n",
        "                                  .groupBy(\"Country\") \\\n",
        "                                  .agg(F.sum(\"Revenue\").alias(\"TotalRevenue\"))\n",
        "\n",
        "orders_per_day = df_processed.filter(F.col(\"date\").isNotNull()) \\\n",
        "                             .withColumn(\"DayOfWeek\", F.date_format(F.col(\"date\"), \"EEEE\")) \\\n",
        "                             .groupBy(\"DayOfWeek\") \\\n",
        "                             .count() \\\n",
        "                             .orderBy(\"count\", ascending=False)\n",
        "\n",
        "average_order_value = invoice_totals.agg(F.avg(\"TotalCost\").alias(\"AverageOrderValue\"))\n",
        "\n",
        "top_selling_products = df_processed.groupBy(\"StockCode\", \"Description\") \\\n",
        "                                   .agg(F.sum(\"Quantity\").alias(\"TotalQuantity\")) \\\n",
        "                                   .orderBy(\"TotalQuantity\", ascending=False) \\\n",
        "                                   .limit(10)\n",
        "\n",
        "print(\"Tổng chi phí của từng hóa đơn:\")\n",
        "invoice_totals.show()\n",
        "\n",
        "print(\"Doanh thu theo khách hàng:\")\n",
        "revenue_per_customer.show()\n",
        "\n",
        "print(\"Doanh thu theo quốc gia:\")\n",
        "revenue_per_country.show()\n",
        "\n",
        "print(\"Số lượng đơn hàng theo ngày trong tuần:\")\n",
        "orders_per_day.show()\n",
        "\n",
        "print(\"Giá trị trung bình của đơn hàng:\")\n",
        "average_order_value.show()\n",
        "\n",
        "print(\"Các sản phẩm bán chạy nhất:\")\n",
        "top_selling_products.show()"
      ]
    },
    {
      "cell_type": "code",
      "execution_count": null,
      "metadata": {
        "colab": {
          "base_uri": "https://localhost:8080/"
        },
        "id": "qqG9xETPhYW4",
        "outputId": "b2990ead-fde6-4cce-e746-ff542d243c6b"
      },
      "outputs": [
        {
          "output_type": "execute_result",
          "data": {
            "text/plain": [
              "532621"
            ]
          },
          "metadata": {},
          "execution_count": 8
        }
      ],
      "source": [
        "df_processed.count()"
      ]
    },
    {
      "cell_type": "code",
      "execution_count": null,
      "metadata": {
        "colab": {
          "base_uri": "https://localhost:8080/"
        },
        "id": "_7pOBpxXhw1z",
        "outputId": "dc78e0f1-0a5b-4fc3-fd1d-30c33140d188"
      },
      "outputs": [
        {
          "output_type": "execute_result",
          "data": {
            "text/plain": [
              "4340"
            ]
          },
          "metadata": {},
          "execution_count": 9
        }
      ],
      "source": [
        "df_processed.select('CustomerID').distinct().count()"
      ]
    },
    {
      "cell_type": "code",
      "execution_count": null,
      "metadata": {
        "colab": {
          "base_uri": "https://localhost:8080/"
        },
        "id": "7J1lC3lQh3ml",
        "outputId": "977941fe-cd76-4359-f8d8-531f88e4bc6a"
      },
      "outputs": [
        {
          "output_type": "stream",
          "name": "stdout",
          "text": [
            "+---------------+-------------+\n",
            "|        Country|country_count|\n",
            "+---------------+-------------+\n",
            "| United Kingdom|         3921|\n",
            "|        Germany|           94|\n",
            "|         France|           87|\n",
            "|          Spain|           30|\n",
            "|        Belgium|           25|\n",
            "|    Switzerland|           21|\n",
            "|       Portugal|           19|\n",
            "|          Italy|           14|\n",
            "|        Finland|           12|\n",
            "|        Austria|           11|\n",
            "|         Norway|           10|\n",
            "|        Denmark|            9|\n",
            "|Channel Islands|            9|\n",
            "|      Australia|            9|\n",
            "|    Netherlands|            9|\n",
            "|         Sweden|            8|\n",
            "|         Cyprus|            8|\n",
            "|          Japan|            8|\n",
            "|         Poland|            6|\n",
            "|         Greece|            4|\n",
            "+---------------+-------------+\n",
            "only showing top 20 rows\n",
            "\n"
          ]
        }
      ],
      "source": [
        "from pyspark.sql.functions import countDistinct, desc\n",
        "df_processed.groupBy('Country').agg(countDistinct('CustomerID').alias('country_count')).orderBy(desc('country_count')).show()"
      ]
    },
    {
      "cell_type": "code",
      "execution_count": null,
      "metadata": {
        "colab": {
          "base_uri": "https://localhost:8080/"
        },
        "id": "x9qWfbDtT4H9",
        "outputId": "1d5b688e-a28c-4605-a64d-3ed46eccb5d9"
      },
      "outputs": [
        {
          "output_type": "stream",
          "name": "stdout",
          "text": [
            "+-------------------+-------------------+\n",
            "|  EarliestOrderDate|    LatestOrderDate|\n",
            "+-------------------+-------------------+\n",
            "|2010-12-01 08:26:00|2011-12-09 12:50:00|\n",
            "+-------------------+-------------------+\n",
            "\n"
          ]
        }
      ],
      "source": [
        "from pyspark.sql.functions import min, max\n",
        "date_range = df_processed.select(min(\"date\").alias(\"EarliestOrderDate\"), max(\"date\").alias(\"LatestOrderDate\"))\n",
        "date_range.show()\n"
      ]
    },
    {
      "cell_type": "markdown",
      "metadata": {
        "id": "k1KhmQxoiwXt"
      },
      "source": [
        "# Data preprocessing"
      ]
    },
    {
      "cell_type": "markdown",
      "metadata": {
        "id": "Pe1o37TDi6jg"
      },
      "source": [
        "## Recency"
      ]
    },
    {
      "cell_type": "code",
      "execution_count": null,
      "metadata": {
        "colab": {
          "base_uri": "https://localhost:8080/"
        },
        "id": "CkkTKkLWi3vm",
        "outputId": "2ae5e1bd-612e-4e79-b248-913c7579d1f6"
      },
      "outputs": [
        {
          "output_type": "stream",
          "name": "stdout",
          "text": [
            "+----------+-------------------+-------+\n",
            "|CustomerID|               date|recency|\n",
            "+----------+-------------------+-------+\n",
            "|     12797|2010-12-09 10:55:00| 700140|\n",
            "|     12797|2010-12-09 10:55:00| 700140|\n",
            "|     12797|2010-12-09 10:55:00| 700140|\n",
            "|     12797|2010-12-09 10:55:00| 700140|\n",
            "|     12797|2010-12-09 10:55:00| 700140|\n",
            "|     12797|2010-12-09 10:55:00| 700140|\n",
            "|     12797|2010-12-09 10:55:00| 700140|\n",
            "|     12797|2010-12-09 10:55:00| 700140|\n",
            "|     12797|2010-12-09 10:55:00| 700140|\n",
            "|     12797|2010-12-09 10:55:00| 700140|\n",
            "|     12797|2010-12-09 10:55:00| 700140|\n",
            "|     12797|2010-12-09 10:55:00| 700140|\n",
            "|     12797|2010-12-09 10:55:00| 700140|\n",
            "|     13716|2011-03-15 13:49:00|9004980|\n",
            "|     13716|2011-03-15 13:49:00|9004980|\n",
            "|     13716|2011-03-15 13:49:00|9004980|\n",
            "|     13716|2011-03-15 13:49:00|9004980|\n",
            "|     13716|2011-03-15 13:49:00|9004980|\n",
            "|     13716|2011-03-15 13:49:00|9004980|\n",
            "|     13716|2011-03-15 13:49:00|9004980|\n",
            "+----------+-------------------+-------+\n",
            "only showing top 20 rows\n",
            "\n"
          ]
        }
      ],
      "source": [
        "from pyspark.sql import functions as F\n",
        "from pyspark.sql.functions import to_timestamp, lit, col, max\n",
        "\n",
        "\n",
        "# Tạo cột from_date với giá trị mặc định\n",
        "df = df_processed.withColumn(\"from_date\", lit(\"2010-12-01 08:26:00\"))\n",
        "\n",
        "# Chuyển đổi from_date sang định dạng timestamp\n",
        "df = df.withColumn(\"from_date\", to_timestamp(\"from_date\", \"yyyy-MM-dd HH:mm:ss\"))\n",
        "\n",
        "\n",
        "df2= df.withColumn('from_date',to_timestamp(col('from_date'))).withColumn('recency',col(\"date\").cast(\"long\") - col('from_date').cast(\"long\"))\n",
        "\n",
        "df2 = df2.join(df2.groupBy('CustomerID').agg(max('recency').alias('recency')),on='recency',how='leftsemi')\n",
        "\n",
        "df2.select(\"CustomerID\", \"date\", \"recency\").show()"
      ]
    },
    {
      "cell_type": "code",
      "execution_count": null,
      "metadata": {
        "colab": {
          "base_uri": "https://localhost:8080/"
        },
        "id": "1Jk6QyTlxgA2",
        "outputId": "9c76d39a-cb76-4291-893b-b588702d4f8b"
      },
      "outputs": [
        {
          "output_type": "stream",
          "name": "stdout",
          "text": [
            "+-------+---------+---------+--------------------+--------+----------------+---------+----------+--------+-------------------+-------------------+\n",
            "|recency|InvoiceNo|StockCode|         Description|Quantity|     InvoiceDate|UnitPrice|CustomerID| Country|               date|          from_date|\n",
            "+-------+---------+---------+--------------------+--------+----------------+---------+----------+--------+-------------------+-------------------+\n",
            "| 700140|   537915|    21891|TRADITIONAL WOODE...|      12|09-12-2010 10:55|     1.25|     12797|Portugal|2010-12-09 10:55:00|2010-12-01 08:26:00|\n",
            "| 700140|   537915|    21892|TRADITIONAL WOODE...|      12|09-12-2010 10:55|     1.25|     12797|Portugal|2010-12-09 10:55:00|2010-12-01 08:26:00|\n",
            "| 700140|   537915|    22623|BOX OF VINTAGE JI...|       3|09-12-2010 10:55|     4.95|     12797|Portugal|2010-12-09 10:55:00|2010-12-01 08:26:00|\n",
            "| 700140|   537915|    22622|BOX OF VINTAGE AL...|       2|09-12-2010 10:55|     9.95|     12797|Portugal|2010-12-09 10:55:00|2010-12-01 08:26:00|\n",
            "| 700140|   537915|    21888|           BINGO SET|       4|09-12-2010 10:55|     3.75|     12797|Portugal|2010-12-09 10:55:00|2010-12-01 08:26:00|\n",
            "+-------+---------+---------+--------------------+--------+----------------+---------+----------+--------+-------------------+-------------------+\n",
            "only showing top 5 rows\n",
            "\n"
          ]
        }
      ],
      "source": [
        "df2.show(5)"
      ]
    },
    {
      "cell_type": "markdown",
      "metadata": {
        "id": "4Em05dCbi8sA"
      },
      "source": [
        "## Frequency"
      ]
    },
    {
      "cell_type": "code",
      "execution_count": null,
      "metadata": {
        "colab": {
          "base_uri": "https://localhost:8080/"
        },
        "id": "CtZWFwUni_Co",
        "outputId": "a8d759d5-c051-4824-fbc5-e4044f9a1962"
      },
      "outputs": [
        {
          "output_type": "stream",
          "name": "stdout",
          "text": [
            "+----------+---------+\n",
            "|CustomerID|frequency|\n",
            "+----------+---------+\n",
            "|     15555|       16|\n",
            "|     15574|        4|\n",
            "|     14157|        2|\n",
            "|     17686|        7|\n",
            "|     13610|        7|\n",
            "|     13865|        4|\n",
            "|     16250|        2|\n",
            "|     17714|        1|\n",
            "|     13282|        3|\n",
            "|     15271|       15|\n",
            "|     16320|        2|\n",
            "|     12394|        2|\n",
            "|     13192|        2|\n",
            "|     15634|        1|\n",
            "|     14204|        1|\n",
            "|     17427|        1|\n",
            "|     18130|        3|\n",
            "|     15269|        1|\n",
            "|     16504|        1|\n",
            "|     12847|        1|\n",
            "+----------+---------+\n",
            "only showing top 20 rows\n",
            "\n"
          ]
        }
      ],
      "source": [
        "from pyspark.sql.functions import countDistinct\n",
        "# Step 4: Calculate frequency for each customer based on unique InvoiceNo counts\n",
        "df_frequency = df_processed.groupBy(\"CustomerID\").agg(countDistinct(\"InvoiceNo\").alias(\"frequency\"))\n",
        "# Show the frequency DataFrame\n",
        "df_frequency.show()\n"
      ]
    },
    {
      "cell_type": "markdown",
      "metadata": {
        "id": "Ie5kcy6Si-Ww"
      },
      "source": [
        "## Monetary Value"
      ]
    },
    {
      "cell_type": "code",
      "execution_count": null,
      "metadata": {
        "colab": {
          "base_uri": "https://localhost:8080/"
        },
        "id": "fDmBx92CPuU7",
        "outputId": "94c8a4e3-9839-4990-8c05-822d61e03a1a"
      },
      "outputs": [
        {
          "output_type": "stream",
          "name": "stdout",
          "text": [
            "+----------+------------------+\n",
            "|CustomerID|    monetary_value|\n",
            "+----------+------------------+\n",
            "|     16250|389.44000000000005|\n",
            "|     15574| 702.2500000000001|\n",
            "|     15555| 4805.169999999994|\n",
            "|     15271|2507.0699999999997|\n",
            "|     17714|             153.0|\n",
            "|     17686| 5739.460000000005|\n",
            "|     13865|501.56000000000006|\n",
            "|     14157| 432.8800000000001|\n",
            "|     13610|1131.8799999999999|\n",
            "|     13772|           1132.13|\n",
            "|     13282|1132.1399999999999|\n",
            "|     12394|           1272.48|\n",
            "|     16320|           1038.46|\n",
            "|     13192|            911.94|\n",
            "|     17757| 5605.289999999997|\n",
            "|     17551|            306.84|\n",
            "|     13187|236.01999999999995|\n",
            "|     16549| 4154.640000000004|\n",
            "|     12637| 6021.900000000003|\n",
            "|     15052|            215.78|\n",
            "+----------+------------------+\n",
            "only showing top 20 rows\n",
            "\n"
          ]
        }
      ],
      "source": [
        "from pyspark.sql.functions import col, sum as F_sum\n",
        "\n",
        "# Calculate the TotalCost for each row and aggregate by CustomerID to get total monetary value\n",
        "df_monetary = df_processed.withColumn(\"TotalCost\", col(\"Quantity\") * col(\"UnitPrice\")) \\\n",
        "                          .groupBy(\"CustomerID\") \\\n",
        "                          .agg(F_sum(\"TotalCost\").alias(\"monetary_value\"))\n",
        "\n",
        "# Display the monetary value for each customer\n",
        "df_monetary.show()\n"
      ]
    },
    {
      "cell_type": "markdown",
      "metadata": {
        "id": "Qi0gpUA_P4Ya"
      },
      "source": []
    },
    {
      "cell_type": "markdown",
      "metadata": {
        "id": "VPUITC1BkJQc"
      },
      "source": [
        "## Kiểm tra dữ liệu cho mô hình học máy\n"
      ]
    },
    {
      "cell_type": "code",
      "execution_count": null,
      "metadata": {
        "id": "zwJ89QdhSi4G"
      },
      "outputs": [],
      "source": [
        "# Join recency, frequency, and monetary data on CustomerID\n",
        "df_rfm = df2.join(df_frequency, on=\"CustomerID\", how=\"inner\") \\\n",
        "                   .join(df_monetary, on=\"CustomerID\", how=\"inner\")\n"
      ]
    },
    {
      "cell_type": "code",
      "execution_count": null,
      "metadata": {
        "colab": {
          "base_uri": "https://localhost:8080/"
        },
        "id": "lLO5sa09SsXo",
        "outputId": "fcdc22e5-4b22-43e7-8d42-90bdeb113ab1"
      },
      "outputs": [
        {
          "output_type": "stream",
          "name": "stdout",
          "text": [
            "RFM Metrics per Customer:\n"
          ]
        }
      ],
      "source": [
        "# Show Recency, Frequency, and Monetary Value DataFrame\n",
        "print(\"RFM Metrics per Customer:\")"
      ]
    },
    {
      "cell_type": "code",
      "execution_count": null,
      "metadata": {
        "colab": {
          "base_uri": "https://localhost:8080/"
        },
        "id": "H6VLbGUej1Ip",
        "outputId": "c895aac4-be93-49ac-f6d9-99437fbfc1a2"
      },
      "outputs": [
        {
          "output_type": "stream",
          "name": "stdout",
          "text": [
            "+--------+---------+------------------+----------+\n",
            "| recency|frequency|    monetary_value|CustomerID|\n",
            "+--------+---------+------------------+----------+\n",
            "| 9700860|        2|389.44000000000005|     16250|\n",
            "|16947300|        4| 702.2500000000001|     15574|\n",
            "|31218780|       16| 4805.169999999994|     15555|\n",
            "|31643100|       15|2507.0699999999997|     15271|\n",
            "| 4586760|        1|             153.0|     17714|\n",
            "|31648380|        7| 5739.460000000005|     17686|\n",
            "|27234300|        4|501.56000000000006|     13865|\n",
            "|30596760|        2| 432.8800000000001|     14157|\n",
            "|31216320|        7|1131.8799999999999|     13610|\n",
            "|29387820|        3|           1132.13|     13772|\n",
            "|30697620|        3|1132.1399999999999|     13282|\n",
            "|26782920|        2|           1272.48|     12394|\n",
            "|17391540|        2|           1038.46|     16320|\n",
            "|24040020|        2|            911.94|     13192|\n",
            "|32166300|       30| 5605.289999999997|     17757|\n",
            "|30702480|       30| 5605.289999999997|     17757|\n",
            "| 1230360|        1|            306.84|     17551|\n",
            "| 3148260|        1|236.01999999999995|     13187|\n",
            "|31387200|       10| 4154.640000000004|     16549|\n",
            "|26457600|        8| 6021.900000000003|     12637|\n",
            "+--------+---------+------------------+----------+\n",
            "only showing top 20 rows\n",
            "\n"
          ]
        }
      ],
      "source": [
        "final_df = df_rfm.select(['recency','frequency','monetary_value','CustomerID']).distinct()\n",
        "final_df.show()"
      ]
    },
    {
      "cell_type": "markdown",
      "metadata": {
        "id": "XA1iImlrkOa2"
      },
      "source": [
        "# Chuẩn hóa dữ liệu"
      ]
    },
    {
      "cell_type": "code",
      "execution_count": null,
      "metadata": {
        "id": "go1M9f1AkQuW"
      },
      "outputs": [],
      "source": [
        "from pyspark.ml.feature import VectorAssembler\n",
        "from pyspark.ml.feature import StandardScaler\n",
        "\n",
        "assemble=VectorAssembler(inputCols=[\n",
        "    'recency','frequency','monetary_value'\n",
        "], outputCol='features')\n",
        "\n",
        "assembled_data=assemble.transform(final_df)\n",
        "\n",
        "scale=StandardScaler(inputCol='features',outputCol='standardized')\n",
        "data_scale=scale.fit(assembled_data)\n",
        "data_scale_output=data_scale.transform(assembled_data)\n",
        "\n"
      ]
    },
    {
      "cell_type": "code",
      "execution_count": null,
      "metadata": {
        "colab": {
          "base_uri": "https://localhost:8080/"
        },
        "id": "oogdxDYdj8Fg",
        "outputId": "e3c64350-eccc-4631-995a-50f5d204b31b"
      },
      "outputs": [
        {
          "output_type": "stream",
          "name": "stdout",
          "text": [
            "+------------------------------------------------------------+\n",
            "|standardized                                                |\n",
            "+------------------------------------------------------------+\n",
            "|[2.003833479365148,0.12386277091331907,0.07758679113935381] |\n",
            "|[0.528481275942952,0.061931385456659535,0.01143113749621664]|\n",
            "+------------------------------------------------------------+\n",
            "only showing top 2 rows\n",
            "\n"
          ]
        }
      ],
      "source": [
        "data_scale_output.select('standardized').show(2,truncate=False)"
      ]
    },
    {
      "cell_type": "markdown",
      "metadata": {
        "id": "lJ6XW7aFk8eb"
      },
      "source": [
        "# Xây dựng mô hình học máy K-means"
      ]
    },
    {
      "cell_type": "markdown",
      "metadata": {
        "id": "UVhK1Ym1lj2q"
      },
      "source": [
        "## Tìm số cụm K"
      ]
    },
    {
      "cell_type": "code",
      "execution_count": null,
      "metadata": {
        "colab": {
          "base_uri": "https://localhost:8080/"
        },
        "id": "QaqBf4nJk7yD",
        "outputId": "5989e78b-eb1d-43aa-e78c-b5c98b092709"
      },
      "outputs": [
        {
          "output_type": "stream",
          "name": "stderr",
          "text": [
            "100%|██████████| 8/8 [48:11<00:00, 361.42s/it]\n"
          ]
        }
      ],
      "source": [
        "from pyspark.ml.clustering import KMeans\n",
        "from pyspark.ml.evaluation import ClusteringEvaluator\n",
        "import numpy as np\n",
        "from tqdm import tqdm\n",
        "\n",
        "\n",
        "cost = np.zeros(10)\n",
        "\n",
        "evaluator = ClusteringEvaluator(predictionCol='prediction', featuresCol='standardized',metricName='silhouette', distanceMeasure='squaredEuclidean')\n",
        "\n",
        "for i in tqdm(range(2,10)):\n",
        "    KMeans_algo=KMeans(featuresCol='standardized', k=i)\n",
        "    KMeans_fit=KMeans_algo.fit(data_scale_output)\n",
        "    output=KMeans_fit.transform(data_scale_output)\n",
        "    cost[i] = KMeans_fit.summary.trainingCost"
      ]
    },
    {
      "cell_type": "code",
      "execution_count": null,
      "metadata": {
        "colab": {
          "base_uri": "https://localhost:8080/",
          "height": 472
        },
        "id": "gTpPSxOhlmzq",
        "outputId": "5b1f85b4-8e59-4db9-bba2-2a854a045184"
      },
      "outputs": [
        {
          "output_type": "display_data",
          "data": {
            "text/plain": [
              "<Figure size 640x480 with 1 Axes>"
            ],
            "image/png": "[encoded data removed]"
          },
          "metadata": {}
        }
      ],
      "source": [
        "import pandas as pd\n",
        "import pylab as pl\n",
        "df_cost = pd.DataFrame(cost[2:])\n",
        "df_cost.columns = [\"cost\"]\n",
        "new_col = range(2,10)\n",
        "df_cost.insert(0, 'cluster', new_col)\n",
        "pl.plot(df_cost.cluster, df_cost.cost)\n",
        "pl.xlabel('Number of Clusters')\n",
        "pl.ylabel('Score')\n",
        "pl.title('Elbow Curve')\n",
        "pl.show()"
      ]
    },
    {
      "cell_type": "markdown",
      "metadata": {
        "id": "6c8htTOuk7VK"
      },
      "source": [
        "## Training K-means với k=4"
      ]
    },
    {
      "cell_type": "code",
      "execution_count": null,
      "metadata": {
        "id": "9-aJXvF4lxg0"
      },
      "outputs": [],
      "source": [
        "kmeans_algo=KMeans(featuresCol='standardized', k=4)\n",
        "kmeans_fit=kmeans_algo.fit(data_scale_output)"
      ]
    },
    {
      "cell_type": "markdown",
      "metadata": {
        "id": "lQYBsX-pmyxY"
      },
      "source": [
        "## Tiến hành dự đoán cụm"
      ]
    },
    {
      "cell_type": "code",
      "execution_count": null,
      "metadata": {
        "colab": {
          "base_uri": "https://localhost:8080/"
        },
        "id": "V7FnCr9Em0KA",
        "outputId": "3da35750-14e1-4ceb-f763-fbd4c283b321"
      },
      "outputs": [
        {
          "output_type": "stream",
          "name": "stdout",
          "text": [
            "+--------+---------+------------------+----------+--------------------+--------------------+----------+\n",
            "| recency|frequency|    monetary_value|CustomerID|            features|        standardized|prediction|\n",
            "+--------+---------+------------------+----------+--------------------+--------------------+----------+\n",
            "| 9700860|        2|389.44000000000005|     16250|[9700860.0,2.0,38...|[1.11772206754745...|         0|\n",
            "|16947300|        4| 702.2500000000001|     15574|[1.69473E7,4.0,70...|[1.95264865128936...|         0|\n",
            "|31218780|       16| 4805.169999999994|     15555|[3.121878E7,16.0,...|[3.59699236231725...|         3|\n",
            "|31643100|       15|2507.0699999999997|     15271|[3.16431E7,15.0,2...|[3.64588203062519...|         3|\n",
            "| 4586760|        1|             153.0|     17714|[4586760.0,1.0,15...|[0.52848127594295...|         0|\n",
            "+--------+---------+------------------+----------+--------------------+--------------------+----------+\n",
            "only showing top 5 rows\n",
            "\n"
          ]
        }
      ],
      "source": [
        "preds=kmeans_fit.transform(data_scale_output)\n",
        "preds.show(5)"
      ]
    },
    {
      "cell_type": "markdown",
      "metadata": {
        "id": "FCMrj4Y0m2TY"
      },
      "source": [
        "# Trực quan hóa kết quả phân cụm"
      ]
    },
    {
      "cell_type": "code",
      "execution_count": null,
      "metadata": {
        "colab": {
          "base_uri": "https://localhost:8080/",
          "height": 1000
        },
        "id": "Vl_gLsvWm4xY",
        "outputId": "9e457e6e-e96e-4fe7-ec87-839a1c30f977"
      },
      "outputs": [
        {
          "output_type": "stream",
          "name": "stderr",
          "text": [
            "<ipython-input-25-59ccef2e5080>:15: FutureWarning: \n",
            "\n",
            "Passing `palette` without assigning `hue` is deprecated and will be removed in v0.14.0. Assign the `x` variable to `hue` and set `legend=False` for the same effect.\n",
            "\n",
            "  bar_plot = sns.barplot(x='prediction', y=str(i), data=avg_df, palette='viridis')\n"
          ]
        },
        {
          "output_type": "display_data",
          "data": {
            "text/plain": [
              "<Figure size 800x500 with 1 Axes>"
            ],
            "image/png": "[encoded data removed]"
          },
          "metadata": {}
        },
        {
          "output_type": "stream",
          "name": "stderr",
          "text": [
            "<ipython-input-25-59ccef2e5080>:15: FutureWarning: \n",
            "\n",
            "Passing `palette` without assigning `hue` is deprecated and will be removed in v0.14.0. Assign the `x` variable to `hue` and set `legend=False` for the same effect.\n",
            "\n",
            "  bar_plot = sns.barplot(x='prediction', y=str(i), data=avg_df, palette='viridis')\n"
          ]
        },
        {
          "output_type": "display_data",
          "data": {
            "text/plain": [
              "<Figure size 800x500 with 1 Axes>"
            ],
            "image/png": "[encoded data removed]"
          },
          "metadata": {}
        },
        {
          "output_type": "stream",
          "name": "stderr",
          "text": [
            "<ipython-input-25-59ccef2e5080>:15: FutureWarning: \n",
            "\n",
            "Passing `palette` without assigning `hue` is deprecated and will be removed in v0.14.0. Assign the `x` variable to `hue` and set `legend=False` for the same effect.\n",
            "\n",
            "  bar_plot = sns.barplot(x='prediction', y=str(i), data=avg_df, palette='viridis')\n"
          ]
        },
        {
          "output_type": "display_data",
          "data": {
            "text/plain": [
              "<Figure size 800x500 with 1 Axes>"
            ],
            "image/png": "[encoded data removed]"
          },
          "metadata": {}
        }
      ],
      "source": [
        "import matplotlib.pyplot as plt\n",
        "import seaborn as sns\n",
        "\n",
        "df_viz = preds.select('recency', 'frequency', 'monetary_value', 'prediction')\n",
        "df_viz = df_viz.toPandas()\n",
        "\n",
        "avg_df = df_viz.groupby(['prediction'], as_index=False).mean()\n",
        "\n",
        "list_value = ['recency', 'frequency', 'monetary_value']\n",
        "\n",
        "sns.set(style=\"whitegrid\")\n",
        "\n",
        "for i in list_value:\n",
        "    plt.figure(figsize=(8, 5))\n",
        "    bar_plot = sns.barplot(x='prediction', y=str(i), data=avg_df, palette='viridis')\n",
        "\n",
        "    plt.title(f'Average {i} by Cluster', fontsize=16)\n",
        "    plt.xlabel('Cluster', fontsize=12)\n",
        "    plt.ylabel(f'Average {i}', fontsize=12)\n",
        "\n",
        "    for p in bar_plot.patches:\n",
        "        bar_plot.annotate(format(p.get_height(), '.2f'),\n",
        "                          (p.get_x() + p.get_width() / 2., p.get_height()),\n",
        "                          ha='center', va='bottom',\n",
        "                          fontsize=10, color='black', rotation=0,\n",
        "                          xytext=(0, 5),\n",
        "                          textcoords='offset points')\n",
        "\n",
        "    plt.tight_layout()\n",
        "    plt.show()\n"
      ]
    },
    {
      "cell_type": "markdown",
      "metadata": {
        "id": "7vT_-WRXbmwU"
      },
      "source": [
        "#RCM"
      ]
    },
    {
      "cell_type": "code",
      "execution_count": null,
      "metadata": {
        "id": "1KKNrm-TzsVW"
      },
      "outputs": [],
      "source": [
        "df = spark.read.csv('/content/drive/MyDrive/CỦA TÔI/NHOM2_CK/OnlineRetail.csv', header=True, inferSchema=True)\n"
      ]
    },
    {
      "cell_type": "code",
      "execution_count": null,
      "metadata": {
        "colab": {
          "base_uri": "https://localhost:8080/"
        },
        "id": "i5DUqDAE347P",
        "outputId": "a98e6d55-0c5e-4870-f391-05c5d0fa5e17"
      },
      "outputs": [
        {
          "name": "stdout",
          "output_type": "stream",
          "text": [
            "+---------+---------+--------------------+--------+----------------+---------+----------+--------------+\n",
            "|InvoiceNo|StockCode|         Description|Quantity|     InvoiceDate|UnitPrice|CustomerID|       Country|\n",
            "+---------+---------+--------------------+--------+----------------+---------+----------+--------------+\n",
            "|   536365|   85123A|WHITE HANGING HEA...|       6|01-12-2010 08:26|     2.55|     17850|United Kingdom|\n",
            "|   536365|    71053| WHITE METAL LANTERN|       6|01-12-2010 08:26|     3.39|     17850|United Kingdom|\n",
            "|   536365|   84406B|CREAM CUPID HEART...|       8|01-12-2010 08:26|     2.75|     17850|United Kingdom|\n",
            "|   536365|   84029G|KNITTED UNION FLA...|       6|01-12-2010 08:26|     3.39|     17850|United Kingdom|\n",
            "|   536365|   84029E|RED WOOLLY HOTTIE...|       6|01-12-2010 08:26|     3.39|     17850|United Kingdom|\n",
            "+---------+---------+--------------------+--------+----------------+---------+----------+--------------+\n",
            "only showing top 5 rows\n",
            "\n"
          ]
        }
      ],
      "source": [
        "df.show(5)"
      ]
    },
    {
      "cell_type": "code",
      "execution_count": null,
      "metadata": {
        "id": "mfkskt2G1kl-"
      },
      "outputs": [],
      "source": [
        "from pyspark.ml.recommendation import ALS\n",
        "from pyspark.ml.evaluation import RegressionEvaluator\n",
        "from pyspark.ml.tuning import CrossValidator, ParamGridBuilder\n",
        "from pyspark.sql import SparkSession\n",
        "from pyspark.sql import functions as F\n",
        "from pyspark.sql.types import IntegerType\n",
        "\n",
        "spark = SparkSession.builder.appName(\"ALS Model Training\").getOrCreate()\n",
        "\n",
        "df_cleaned = df.dropna(subset=[\"CustomerID\", \"StockCode\", \"Quantity\"])\n",
        "\n",
        "als_data = df_cleaned.filter(\n",
        "                          (F.col(\"Quantity\") > 0) &\n",
        "                          F.col(\"CustomerID\").isNotNull() &\n",
        "                          F.col(\"StockCode\").isNotNull()\n",
        "                      ) \\\n",
        "                      .select(\n",
        "                          F.col(\"CustomerID\").cast(IntegerType()).alias(\"user_id\"),\n",
        "                          F.col(\"StockCode\").cast(IntegerType()).alias(\"item_id\"),\n",
        "                          F.col(\"Quantity\").cast(IntegerType()).alias(\"rating\")\n",
        "                      ) \\\n",
        "                      .dropna(subset=[\"user_id\", \"item_id\"])  # Loại bỏ các hàng có giá trị null trong user_id và item_id\n",
        "\n",
        "\n",
        "als = ALS(userCol=\"user_id\", itemCol=\"item_id\", ratingCol=\"rating\", coldStartStrategy=\"drop\", nonnegative=True)\n",
        "\n",
        "param_grid = ParamGridBuilder() \\\n",
        "    .addGrid(als.rank, [10, 20, 30]) \\\n",
        "    .addGrid(als.maxIter, [5, 10]) \\\n",
        "    .addGrid(als.regParam, [0.01, 0.1, 0.2]) \\\n",
        "    .build()\n",
        "\n",
        "evaluator = RegressionEvaluator(metricName=\"rmse\", labelCol=\"rating\", predictionCol=\"prediction\")\n",
        "\n",
        "crossval = CrossValidator(estimator=als, estimatorParamMaps=param_grid, evaluator=evaluator, numFolds=3)\n",
        "\n",
        "train_data, test_data = als_data.randomSplit([0.7, 0.3])\n",
        "\n",
        "cv_model = crossval.fit(train_data)\n"
      ]
    },
    {
      "cell_type": "code",
      "execution_count": null,
      "metadata": {
        "colab": {
          "base_uri": "https://localhost:8080/"
        },
        "id": "kchEQPEjVMJu",
        "outputId": "f2f764bb-d119-40ce-f8e2-49ddc0baf22b"
      },
      "outputs": [
        {
          "name": "stdout",
          "output_type": "stream",
          "text": [
            "Best Model's RMSE on test data: 33.66984784435793\n",
            "Best rank: 30\n",
            "Best maxIter: 10\n",
            "Best regParam: 0.01\n",
            "+-----+--------------------+\n",
            "|   id|            features|\n",
            "+-----+--------------------+\n",
            "|12350|[0.0, 0.084478065...|\n",
            "|12360|[0.19722603, 0.09...|\n",
            "|12370|[0.0, 0.0, 0.0914...|\n",
            "|12380|[0.0, 0.0, 0.4529...|\n",
            "|12390|[0.08485217, 0.24...|\n",
            "|12410|[0.0, 0.0, 0.0, 0...|\n",
            "|12420|[0.0, 0.0, 0.0, 0...|\n",
            "|12430|[0.0138090905, 0....|\n",
            "|12450|[0.0, 0.33238924,...|\n",
            "|12480|[0.0, 0.0, 0.0, 0...|\n",
            "|12490|[0.17198715, 0.05...|\n",
            "|12500|[1.8712943, 1.809...|\n",
            "|12510|[0.0, 0.057024408...|\n",
            "|12520|[0.0, 0.060895886...|\n",
            "|12530|[0.0, 0.0, 0.1716...|\n",
            "|12540|[0.089470744, 0.2...|\n",
            "|12550|[0.0, 0.0, 9.9879...|\n",
            "|12560|[0.0, 0.037852038...|\n",
            "|12580|[0.1687991, 0.025...|\n",
            "|12590|[0.0, 3.7975507, ...|\n",
            "+-----+--------------------+\n",
            "only showing top 20 rows\n",
            "\n",
            "+-----+--------------------+\n",
            "|   id|            features|\n",
            "+-----+--------------------+\n",
            "|10080|[0.2244709, 0.0, ...|\n",
            "|10120|[17.971283, 0.800...|\n",
            "|15030|[0.0, 0.0, 0.0, 0...|\n",
            "|16010|[0.0, 1.922027, 0...|\n",
            "|20670|[0.6295606, 0.0, ...|\n",
            "|20700|[0.7144275, 0.0, ...|\n",
            "|20750|[0.0, 0.049139656...|\n",
            "|20760|[1.2362305, 0.514...|\n",
            "|20770|[0.011260522, 0.5...|\n",
            "|20780|[0.6933553, 0.113...|\n",
            "|20820|[2.2354794, 0.0, ...|\n",
            "|20830|[0.0, 0.0, 0.6612...|\n",
            "|20840|[2.3969617, 0.203...|\n",
            "|20910|[0.009186423, 0.0...|\n",
            "|20970|[1.6751374, 0.0, ...|\n",
            "|20980|[0.9275282, 0.330...|\n",
            "|21000|[1.212782, 0.0479...|\n",
            "|21030|[2.1840723, 0.618...|\n",
            "|21040|[2.505431, 2.5875...|\n",
            "|21060|[0.0, 4.943015, 0...|\n",
            "+-----+--------------------+\n",
            "only showing top 20 rows\n",
            "\n",
            "+-------+--------------------+\n",
            "|user_id|     recommendations|\n",
            "+-------+--------------------+\n",
            "|  12346|[{18007, 662890.4...|\n",
            "|  12347|[{18007, 1390.424...|\n",
            "|  12348|[{17096, 1473.106...|\n",
            "|  12349|[{84568, 526.2497...|\n",
            "|  12350|[{17096, 460.4058...|\n",
            "|  12353|[{18007, 93.38805...|\n",
            "|  12355|[{17096, 232.0685...|\n",
            "|  12356|[{40016, 1021.755...|\n",
            "|  12357|[{17096, 2156.284...|\n",
            "|  12358|[{17096, 431.2635...|\n",
            "|  12359|[{84568, 211.8602...|\n",
            "|  12360|[{84568, 316.8362...|\n",
            "|  12362|[{84568, 260.5693...|\n",
            "|  12364|[{17096, 438.2856...|\n",
            "|  12365|[{17096, 506.2316...|\n",
            "|  12367|[{16014, 488.3451...|\n",
            "|  12370|[{17096, 933.1473...|\n",
            "|  12373|[{17096, 578.7981...|\n",
            "|  12374|[{18007, 493.0113...|\n",
            "|  12379|[{17096, 671.9535...|\n",
            "+-------+--------------------+\n",
            "only showing top 20 rows\n",
            "\n"
          ]
        }
      ],
      "source": [
        "best_model = cv_model.bestModel\n",
        "\n",
        "predictions = best_model.transform(test_data)\n",
        "rmse = evaluator.evaluate(predictions)\n",
        "print(f\"Best Model's RMSE on test data: {rmse}\")\n",
        "\n",
        "print(f\"Best rank: {best_model.rank}\")\n",
        "print(f\"Best maxIter: {best_model._java_obj.parent().getMaxIter()}\")\n",
        "print(f\"Best regParam: {best_model._java_obj.parent().getRegParam()}\")\n",
        "\n",
        "best_model.userFactors.show()\n",
        "best_model.itemFactors.show()\n",
        "\n",
        "best_model.recommendForAllUsers(3).show()\n"
      ]
    },
    {
      "cell_type": "code",
      "execution_count": null,
      "metadata": {
        "colab": {
          "base_uri": "https://localhost:8080/"
        },
        "id": "KyOCS429bHyg",
        "outputId": "3f50165e-428d-4b84-d146-ae329bb1ef6c"
      },
      "outputs": [
        {
          "name": "stdout",
          "output_type": "stream",
          "text": [
            "Drive already mounted at /content/drive; to attempt to forcibly remount, call drive.mount(\"/content/drive\", force_remount=True).\n"
          ]
        }
      ],
      "source": [
        "from google.colab import drive\n",
        "import os\n",
        "\n",
        "drive.mount('/content/drive')\n",
        "cv_model.write().overwrite().save(\"/content/drive/MyDrive/CỦA TÔI/NHOM2_CK/cv_model\")\n"
      ]
    },
    {
      "cell_type": "code",
      "execution_count": null,
      "metadata": {
        "colab": {
          "base_uri": "https://localhost:8080/"
        },
        "id": "kzCsjhBDb24t",
        "outputId": "114b309b-c8b6-4775-d7f3-a87d5edda629"
      },
      "outputs": [
        {
          "name": "stdout",
          "output_type": "stream",
          "text": [
            "+-------+-------+---------+\n",
            "|user_id|item_id|   rating|\n",
            "+-------+-------+---------+\n",
            "|  12346|  18007|662890.44|\n",
            "|  12346|  18007|660091.56|\n",
            "|  12346|  18007|494945.53|\n",
            "|  12346|  18007|309702.62|\n",
            "|  12346|  18007|199254.52|\n",
            "|  12346|  18007|192480.92|\n",
            "|  12346|  18007|190589.19|\n",
            "|  12346|  18007|179540.45|\n",
            "|  12346|  18007|171282.61|\n",
            "|  12346|  18007|166970.56|\n",
            "|  12346|  84568|662890.44|\n",
            "|  12346|  84568|660091.56|\n",
            "|  12346|  84568|494945.53|\n",
            "|  12346|  84568|309702.62|\n",
            "|  12346|  84568|199254.52|\n",
            "|  12346|  84568|192480.92|\n",
            "|  12346|  84568|190589.19|\n",
            "|  12346|  84568|179540.45|\n",
            "|  12346|  84568|171282.61|\n",
            "|  12346|  84568|166970.56|\n",
            "+-------+-------+---------+\n",
            "only showing top 20 rows\n",
            "\n"
          ]
        }
      ],
      "source": [
        "from pyspark.ml.tuning import CrossValidatorModel\n",
        "from pyspark.sql import functions as F\n",
        "from pyspark.sql import SparkSession\n",
        "\n",
        "spark = SparkSession.builder.appName(\"RecommendationSystem\").getOrCreate()\n",
        "\n",
        "loaded_cv_model = CrossValidatorModel.load(\"/content/drive/MyDrive/CỦA TÔI/NHOM2_CK/cv_model\")\n",
        "best_model_loaded = loaded_cv_model.bestModel\n",
        "\n",
        "user_recommendations_expanded = best_model_loaded.recommendForAllUsers(10) \\\n",
        "    .withColumn(\"item_id\", F.expr(\"explode(recommendations.item_id)\")) \\\n",
        "    .withColumn(\"rating\", F.expr(\"explode(recommendations.rating)\")) \\\n",
        "    .select(\"user_id\", \"item_id\", \"rating\")\n",
        "\n",
        "user_recommendations_expanded.createOrReplaceTempView(\"user_recommendation_table\")\n",
        "\n",
        "def get_recommendations_for_user(user_id: int):\n",
        "    query = f\"SELECT * FROM user_recommendation_table WHERE user_id = {user_id}\"\n",
        "    spark.sql(query).show()\n",
        "\n",
        "get_recommendations_for_user(12346)\n"
      ]
    }
  ],
  "metadata": {
    "colab": {
      "collapsed_sections": [
        "k1KhmQxoiwXt"
      ],
      "provenance": []
    },
    "kernelspec": {
      "display_name": "Python 3",
      "name": "python3"
    },
    "language_info": {
      "name": "python"
    }
  },
  "nbformat": 4,
  "nbformat_minor": 0
}